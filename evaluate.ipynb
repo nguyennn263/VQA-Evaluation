{
 "cells": [
  {
   "cell_type": "code",
   "execution_count": null,
   "id": "c69dae88",
   "metadata": {},
   "outputs": [],
   "source": [
    "from transformers import ViltProcessor, ViltForQuestionAnswering\n",
    "from PIL import Image\n",
    "from compute_score import compute_score\n",
    "from tqdm import tqdm\n",
    "import os\n",
    "import json\n",
    "import pandas as pd\n",
    "import torch\n",
    "\n",
    "# (GPU hoặc CPU) : Note -> GPU cho nhanh! CPU ~ 1 tiếng hơn á :v\n",
    "device = torch.device(\"cuda\" if torch.cuda.is_available() else \"cpu\")\n",
    "print(f\"Using device: {device}\")\n",
    "\n",
    "data_path = \"/home/tgng/coding/OpenViVQA/data/text/evaluate_60k_data_balanced_preprocessed.csv\"\n",
    "image_dir = \"/home/tgng/coding/OpenViVQA/data/images/\"\n",
    "data = pd.read_csv(data_path)\n",
    "\n",
    "# Load model\n",
    "model_dir = \"/home/tgng/coding/OpenViVQA/finetuned_vilt_best/\"\n",
    "processor = ViltProcessor.from_pretrained(model_dir)\n",
    "model = ViltForQuestionAnswering.from_pretrained(model_dir).to(device)  # Đưa mô hình lên GPU nếu khả dụng\n",
    "\n",
    "# Predict results\n",
    "predictions = []\n",
    "ground_truths = []\n",
    "max_length = 40  # Giới hạn độ dài tối đa của chuỗi đầu vào (chủ yếu để nhanh thôi - mà dài quá thì code của thầy này (repo này) cx có giới hạn số token)"
   ]
  },
  {
   "cell_type": "code",
   "execution_count": null,
   "id": "41a772bc",
   "metadata": {},
   "outputs": [],
   "source": [
    "import matplotlib.pyplot as plt\n",
    "from PIL import Image\n",
    "\n",
    "# Get sample\n",
    "sample_idx = 0\n",
    "row = data.iloc[sample_idx]\n",
    "\n",
    "image_name = f\"{int(row['image_id']):012d}.jpg\"\n",
    "image_path = os.path.join(image_dir, image_name)\n",
    "\n",
    "# Load image & text\n",
    "image = Image.open(image_path).convert(\"RGB\")\n",
    "question = row[\"question\"]\n",
    "answers = eval(row[\"answers\"])  # Convert string to list -> [\"answer1\", \"answer2\", ...]\n",
    "\n",
    "# Model input\n",
    "inputs = processor(images=image, text=question, return_tensors=\"pt\").to(device)\n",
    "outputs = model(**inputs)\n",
    "predicted_answer = processor.decode(outputs.logits.argmax(dim=-1))\n",
    "\n",
    "plt.figure(figsize=(8, 8))\n",
    "plt.imshow(image)\n",
    "plt.axis(\"off\")\n",
    "plt.title(f\"Question: {question}\\nPredicted Answer: {predicted_answer}\\nGround Truth: {', '.join(answers)}\")\n",
    "plt.show()"
   ]
  },
  {
   "cell_type": "code",
   "execution_count": null,
   "id": "962d8676",
   "metadata": {},
   "outputs": [],
   "source": [
    "for _, row in tqdm(data.iterrows(), total=len(data), desc=\"Processing\", unit=\"sample\"):\n",
    "    image_name = f\"{int(row['image_id']):012d}.jpg\"\n",
    "    image_path = os.path.join(image_dir, image_name)\n",
    "    \n",
    "    image = Image.open(image_path).convert(\"RGB\")\n",
    "    question = row[\"question\"]\n",
    "    answers = eval(row[\"answers\"])\n",
    "\n",
    "    # do code của repo này có giới hạn số token, nên mình phải truncate câu hỏi trước nha ae\n",
    "    inputs = processor.tokenizer(question, return_tensors=\"pt\", truncation=True, max_length=max_length)\n",
    "    truncated_question = processor.tokenizer.decode(inputs[\"input_ids\"][0], skip_special_tokens=True)\n",
    "\n",
    "    inputs = processor(images=image, text=truncated_question, return_tensors=\"pt\").to(device)  # Đưa input lên GPU nếu khả dụng nha\n",
    "    outputs = model(**inputs)\n",
    "    predicted_answer = processor.decode(outputs.logits.argmax(dim=-1))\n",
    "\n",
    "    predictions.append(predicted_answer)\n",
    "    ground_truths.append(answers)"
   ]
  },
  {
   "cell_type": "code",
   "execution_count": null,
   "id": "6fa9f2d0",
   "metadata": {},
   "outputs": [],
   "source": [
    "import numpy as np"
   ]
  },
  {
   "cell_type": "code",
   "execution_count": null,
   "id": "dce8e7c7",
   "metadata": {},
   "outputs": [],
   "source": [
    "gts = {str(idx): gt for idx, gt in enumerate(ground_truths)}  # Chuyển ground_truths thành dictionary :v\n",
    "gen = {str(idx): [pred] for idx, pred in enumerate(predictions)}  # Chuyển predictions thành dictionary\n",
    "\n",
    "scores = compute_score(gts, gen)\n",
    "print(\"Evaluation Scores:\", scores)\n",
    "\n",
    "def convert_to_serializable(obj):\n",
    "    if isinstance(obj, np.ndarray):\n",
    "        return obj.tolist()\n",
    "    elif isinstance(obj, (np.float32, np.float64)):\n",
    "        return float(obj)\n",
    "    elif isinstance(obj, (np.int32, np.int64)):\n",
    "        return int(obj)\n",
    "    else:\n",
    "        return obj  # Các kiểu dữ liệu khác giữ nguyên\n",
    "\n",
    "output_path = \"/home/tgng/coding/OpenViVQA/evaluation_results.json\"\n",
    "with open(output_path, \"w\") as f:\n",
    "    json.dump(scores, f, ensure_ascii=False, indent=4, default=convert_to_serializable)"
   ]
  }
 ],
 "metadata": {
  "kernelspec": {
   "display_name": "tgng.base",
   "language": "python",
   "name": "python3"
  },
  "language_info": {
   "codemirror_mode": {
    "name": "ipython",
    "version": 3
   },
   "file_extension": ".py",
   "mimetype": "text/x-python",
   "name": "python",
   "nbconvert_exporter": "python",
   "pygments_lexer": "ipython3",
   "version": "3.11.13"
  }
 },
 "nbformat": 4,
 "nbformat_minor": 5
}
